{
 "cells": [
  {
   "cell_type": "code",
   "execution_count": 55,
   "metadata": {
    "_cell_guid": "b1076dfc-b9ad-4769-8c92-a6c4dae69d19",
    "_uuid": "8f2839f25d086af736a60e9eeb907d3b93b6e0e5",
    "execution": {
     "iopub.execute_input": "2023-01-11T04:24:24.874889Z",
     "iopub.status.busy": "2023-01-11T04:24:24.874441Z",
     "iopub.status.idle": "2023-01-11T04:24:24.884974Z",
     "shell.execute_reply": "2023-01-11T04:24:24.883847Z",
     "shell.execute_reply.started": "2023-01-11T04:24:24.874855Z"
    },
    "pycharm": {
     "name": "#%%\n"
    }
   },
   "outputs": [
    {
     "name": "stdout",
     "output_type": "stream",
     "text": [
      "/kaggle/input/hotel-reservations-classification-dataset/Hotel Reservations.csv\n"
     ]
    }
   ],
   "source": [
    "# This Python 3 environment comes with many helpful analytics libraries installed\n",
    "# It is defined by the kaggle/python Docker image: https://github.com/kaggle/docker-python\n",
    "# For example, here's several helpful packages to load\n",
    "\n",
    "import numpy as np # linear algebra\n",
    "import pandas as pd # data processing, CSV file I/O (e.g. pd.read_csv)\n",
    "import matplotlib.pyplot as plt\n",
    "import seaborn as sns\n",
    "# Input data files are available in the read-only \"../input/\" directory\n",
    "# For example, running this (by clicking run or pressing Shift+Enter) will list all files under the input directory\n",
    "\n",
    "import os\n",
    "for dirname, _, filenames in os.walk('/kaggle/input'):\n",
    "    for filename in filenames:\n",
    "        print(os.path.join(dirname, filename))\n",
    "\n",
    "# You can write up to 20GB to the current directory (/kaggle/working/) that gets preserved as output when you create a version using \"Save & Run All\" \n",
    "# You can also write temporary files to /kaggle/temp/, but they won't be saved outside of the current session"
   ]
  },
  {
   "cell_type": "code",
   "execution_count": 56,
   "metadata": {
    "execution": {
     "iopub.execute_input": "2023-01-11T04:24:24.891157Z",
     "iopub.status.busy": "2023-01-11T04:24:24.890715Z",
     "iopub.status.idle": "2023-01-11T04:24:24.902167Z",
     "shell.execute_reply": "2023-01-11T04:24:24.900880Z",
     "shell.execute_reply.started": "2023-01-11T04:24:24.891092Z"
    },
    "pycharm": {
     "name": "#%%\n"
    }
   },
   "outputs": [],
   "source": [
    "# Machine Learning Imports\n",
    "from sklearn.model_selection import train_test_split\n",
    "from sklearn import metrics\n",
    "from sklearn.ensemble import RandomForestClassifier\n",
    "from sklearn.metrics import r2_score\n",
    "from sklearn.metrics import accuracy_score, confusion_matrix, classification_report\n",
    "import scikitplot as skplt"
   ]
  },
  {
   "cell_type": "code",
   "execution_count": 57,
   "metadata": {
    "execution": {
     "iopub.execute_input": "2023-01-11T04:24:24.905134Z",
     "iopub.status.busy": "2023-01-11T04:24:24.904350Z",
     "iopub.status.idle": "2023-01-11T04:24:25.035700Z",
     "shell.execute_reply": "2023-01-11T04:24:25.034416Z",
     "shell.execute_reply.started": "2023-01-11T04:24:24.905078Z"
    },
    "pycharm": {
     "name": "#%%\n"
    }
   },
   "outputs": [
    {
     "data": {
      "text/html": [
       "<div>\n",
       "<style scoped>\n",
       "    .dataframe tbody tr th:only-of-type {\n",
       "        vertical-align: middle;\n",
       "    }\n",
       "\n",
       "    .dataframe tbody tr th {\n",
       "        vertical-align: top;\n",
       "    }\n",
       "\n",
       "    .dataframe thead th {\n",
       "        text-align: right;\n",
       "    }\n",
       "</style>\n",
       "<table border=\"1\" class=\"dataframe\">\n",
       "  <thead>\n",
       "    <tr style=\"text-align: right;\">\n",
       "      <th></th>\n",
       "      <th>Booking_ID</th>\n",
       "      <th>no_of_adults</th>\n",
       "      <th>no_of_children</th>\n",
       "      <th>no_of_weekend_nights</th>\n",
       "      <th>no_of_week_nights</th>\n",
       "      <th>type_of_meal_plan</th>\n",
       "      <th>required_car_parking_space</th>\n",
       "      <th>room_type_reserved</th>\n",
       "      <th>lead_time</th>\n",
       "      <th>arrival_year</th>\n",
       "      <th>arrival_month</th>\n",
       "      <th>arrival_date</th>\n",
       "      <th>market_segment_type</th>\n",
       "      <th>repeated_guest</th>\n",
       "      <th>no_of_previous_cancellations</th>\n",
       "      <th>no_of_previous_bookings_not_canceled</th>\n",
       "      <th>avg_price_per_room</th>\n",
       "      <th>no_of_special_requests</th>\n",
       "      <th>booking_status</th>\n",
       "    </tr>\n",
       "  </thead>\n",
       "  <tbody>\n",
       "    <tr>\n",
       "      <th>0</th>\n",
       "      <td>INN00001</td>\n",
       "      <td>2</td>\n",
       "      <td>0</td>\n",
       "      <td>1</td>\n",
       "      <td>2</td>\n",
       "      <td>Meal Plan 1</td>\n",
       "      <td>0</td>\n",
       "      <td>Room_Type 1</td>\n",
       "      <td>224</td>\n",
       "      <td>2017</td>\n",
       "      <td>10</td>\n",
       "      <td>2</td>\n",
       "      <td>Offline</td>\n",
       "      <td>0</td>\n",
       "      <td>0</td>\n",
       "      <td>0</td>\n",
       "      <td>65.00</td>\n",
       "      <td>0</td>\n",
       "      <td>Not_Canceled</td>\n",
       "    </tr>\n",
       "    <tr>\n",
       "      <th>1</th>\n",
       "      <td>INN00002</td>\n",
       "      <td>2</td>\n",
       "      <td>0</td>\n",
       "      <td>2</td>\n",
       "      <td>3</td>\n",
       "      <td>Not Selected</td>\n",
       "      <td>0</td>\n",
       "      <td>Room_Type 1</td>\n",
       "      <td>5</td>\n",
       "      <td>2018</td>\n",
       "      <td>11</td>\n",
       "      <td>6</td>\n",
       "      <td>Online</td>\n",
       "      <td>0</td>\n",
       "      <td>0</td>\n",
       "      <td>0</td>\n",
       "      <td>106.68</td>\n",
       "      <td>1</td>\n",
       "      <td>Not_Canceled</td>\n",
       "    </tr>\n",
       "    <tr>\n",
       "      <th>2</th>\n",
       "      <td>INN00003</td>\n",
       "      <td>1</td>\n",
       "      <td>0</td>\n",
       "      <td>2</td>\n",
       "      <td>1</td>\n",
       "      <td>Meal Plan 1</td>\n",
       "      <td>0</td>\n",
       "      <td>Room_Type 1</td>\n",
       "      <td>1</td>\n",
       "      <td>2018</td>\n",
       "      <td>2</td>\n",
       "      <td>28</td>\n",
       "      <td>Online</td>\n",
       "      <td>0</td>\n",
       "      <td>0</td>\n",
       "      <td>0</td>\n",
       "      <td>60.00</td>\n",
       "      <td>0</td>\n",
       "      <td>Canceled</td>\n",
       "    </tr>\n",
       "    <tr>\n",
       "      <th>3</th>\n",
       "      <td>INN00004</td>\n",
       "      <td>2</td>\n",
       "      <td>0</td>\n",
       "      <td>0</td>\n",
       "      <td>2</td>\n",
       "      <td>Meal Plan 1</td>\n",
       "      <td>0</td>\n",
       "      <td>Room_Type 1</td>\n",
       "      <td>211</td>\n",
       "      <td>2018</td>\n",
       "      <td>5</td>\n",
       "      <td>20</td>\n",
       "      <td>Online</td>\n",
       "      <td>0</td>\n",
       "      <td>0</td>\n",
       "      <td>0</td>\n",
       "      <td>100.00</td>\n",
       "      <td>0</td>\n",
       "      <td>Canceled</td>\n",
       "    </tr>\n",
       "    <tr>\n",
       "      <th>4</th>\n",
       "      <td>INN00005</td>\n",
       "      <td>2</td>\n",
       "      <td>0</td>\n",
       "      <td>1</td>\n",
       "      <td>1</td>\n",
       "      <td>Not Selected</td>\n",
       "      <td>0</td>\n",
       "      <td>Room_Type 1</td>\n",
       "      <td>48</td>\n",
       "      <td>2018</td>\n",
       "      <td>4</td>\n",
       "      <td>11</td>\n",
       "      <td>Online</td>\n",
       "      <td>0</td>\n",
       "      <td>0</td>\n",
       "      <td>0</td>\n",
       "      <td>94.50</td>\n",
       "      <td>0</td>\n",
       "      <td>Canceled</td>\n",
       "    </tr>\n",
       "    <tr>\n",
       "      <th>...</th>\n",
       "      <td>...</td>\n",
       "      <td>...</td>\n",
       "      <td>...</td>\n",
       "      <td>...</td>\n",
       "      <td>...</td>\n",
       "      <td>...</td>\n",
       "      <td>...</td>\n",
       "      <td>...</td>\n",
       "      <td>...</td>\n",
       "      <td>...</td>\n",
       "      <td>...</td>\n",
       "      <td>...</td>\n",
       "      <td>...</td>\n",
       "      <td>...</td>\n",
       "      <td>...</td>\n",
       "      <td>...</td>\n",
       "      <td>...</td>\n",
       "      <td>...</td>\n",
       "      <td>...</td>\n",
       "    </tr>\n",
       "    <tr>\n",
       "      <th>36270</th>\n",
       "      <td>INN36271</td>\n",
       "      <td>3</td>\n",
       "      <td>0</td>\n",
       "      <td>2</td>\n",
       "      <td>6</td>\n",
       "      <td>Meal Plan 1</td>\n",
       "      <td>0</td>\n",
       "      <td>Room_Type 4</td>\n",
       "      <td>85</td>\n",
       "      <td>2018</td>\n",
       "      <td>8</td>\n",
       "      <td>3</td>\n",
       "      <td>Online</td>\n",
       "      <td>0</td>\n",
       "      <td>0</td>\n",
       "      <td>0</td>\n",
       "      <td>167.80</td>\n",
       "      <td>1</td>\n",
       "      <td>Not_Canceled</td>\n",
       "    </tr>\n",
       "    <tr>\n",
       "      <th>36271</th>\n",
       "      <td>INN36272</td>\n",
       "      <td>2</td>\n",
       "      <td>0</td>\n",
       "      <td>1</td>\n",
       "      <td>3</td>\n",
       "      <td>Meal Plan 1</td>\n",
       "      <td>0</td>\n",
       "      <td>Room_Type 1</td>\n",
       "      <td>228</td>\n",
       "      <td>2018</td>\n",
       "      <td>10</td>\n",
       "      <td>17</td>\n",
       "      <td>Online</td>\n",
       "      <td>0</td>\n",
       "      <td>0</td>\n",
       "      <td>0</td>\n",
       "      <td>90.95</td>\n",
       "      <td>2</td>\n",
       "      <td>Canceled</td>\n",
       "    </tr>\n",
       "    <tr>\n",
       "      <th>36272</th>\n",
       "      <td>INN36273</td>\n",
       "      <td>2</td>\n",
       "      <td>0</td>\n",
       "      <td>2</td>\n",
       "      <td>6</td>\n",
       "      <td>Meal Plan 1</td>\n",
       "      <td>0</td>\n",
       "      <td>Room_Type 1</td>\n",
       "      <td>148</td>\n",
       "      <td>2018</td>\n",
       "      <td>7</td>\n",
       "      <td>1</td>\n",
       "      <td>Online</td>\n",
       "      <td>0</td>\n",
       "      <td>0</td>\n",
       "      <td>0</td>\n",
       "      <td>98.39</td>\n",
       "      <td>2</td>\n",
       "      <td>Not_Canceled</td>\n",
       "    </tr>\n",
       "    <tr>\n",
       "      <th>36273</th>\n",
       "      <td>INN36274</td>\n",
       "      <td>2</td>\n",
       "      <td>0</td>\n",
       "      <td>0</td>\n",
       "      <td>3</td>\n",
       "      <td>Not Selected</td>\n",
       "      <td>0</td>\n",
       "      <td>Room_Type 1</td>\n",
       "      <td>63</td>\n",
       "      <td>2018</td>\n",
       "      <td>4</td>\n",
       "      <td>21</td>\n",
       "      <td>Online</td>\n",
       "      <td>0</td>\n",
       "      <td>0</td>\n",
       "      <td>0</td>\n",
       "      <td>94.50</td>\n",
       "      <td>0</td>\n",
       "      <td>Canceled</td>\n",
       "    </tr>\n",
       "    <tr>\n",
       "      <th>36274</th>\n",
       "      <td>INN36275</td>\n",
       "      <td>2</td>\n",
       "      <td>0</td>\n",
       "      <td>1</td>\n",
       "      <td>2</td>\n",
       "      <td>Meal Plan 1</td>\n",
       "      <td>0</td>\n",
       "      <td>Room_Type 1</td>\n",
       "      <td>207</td>\n",
       "      <td>2018</td>\n",
       "      <td>12</td>\n",
       "      <td>30</td>\n",
       "      <td>Offline</td>\n",
       "      <td>0</td>\n",
       "      <td>0</td>\n",
       "      <td>0</td>\n",
       "      <td>161.67</td>\n",
       "      <td>0</td>\n",
       "      <td>Not_Canceled</td>\n",
       "    </tr>\n",
       "  </tbody>\n",
       "</table>\n",
       "<p>36275 rows × 19 columns</p>\n",
       "</div>"
      ],
      "text/plain": [
       "      Booking_ID  no_of_adults  no_of_children  no_of_weekend_nights  \\\n",
       "0       INN00001             2               0                     1   \n",
       "1       INN00002             2               0                     2   \n",
       "2       INN00003             1               0                     2   \n",
       "3       INN00004             2               0                     0   \n",
       "4       INN00005             2               0                     1   \n",
       "...          ...           ...             ...                   ...   \n",
       "36270   INN36271             3               0                     2   \n",
       "36271   INN36272             2               0                     1   \n",
       "36272   INN36273             2               0                     2   \n",
       "36273   INN36274             2               0                     0   \n",
       "36274   INN36275             2               0                     1   \n",
       "\n",
       "       no_of_week_nights type_of_meal_plan  required_car_parking_space  \\\n",
       "0                      2       Meal Plan 1                           0   \n",
       "1                      3      Not Selected                           0   \n",
       "2                      1       Meal Plan 1                           0   \n",
       "3                      2       Meal Plan 1                           0   \n",
       "4                      1      Not Selected                           0   \n",
       "...                  ...               ...                         ...   \n",
       "36270                  6       Meal Plan 1                           0   \n",
       "36271                  3       Meal Plan 1                           0   \n",
       "36272                  6       Meal Plan 1                           0   \n",
       "36273                  3      Not Selected                           0   \n",
       "36274                  2       Meal Plan 1                           0   \n",
       "\n",
       "      room_type_reserved  lead_time  arrival_year  arrival_month  \\\n",
       "0            Room_Type 1        224          2017             10   \n",
       "1            Room_Type 1          5          2018             11   \n",
       "2            Room_Type 1          1          2018              2   \n",
       "3            Room_Type 1        211          2018              5   \n",
       "4            Room_Type 1         48          2018              4   \n",
       "...                  ...        ...           ...            ...   \n",
       "36270        Room_Type 4         85          2018              8   \n",
       "36271        Room_Type 1        228          2018             10   \n",
       "36272        Room_Type 1        148          2018              7   \n",
       "36273        Room_Type 1         63          2018              4   \n",
       "36274        Room_Type 1        207          2018             12   \n",
       "\n",
       "       arrival_date market_segment_type  repeated_guest  \\\n",
       "0                 2             Offline               0   \n",
       "1                 6              Online               0   \n",
       "2                28              Online               0   \n",
       "3                20              Online               0   \n",
       "4                11              Online               0   \n",
       "...             ...                 ...             ...   \n",
       "36270             3              Online               0   \n",
       "36271            17              Online               0   \n",
       "36272             1              Online               0   \n",
       "36273            21              Online               0   \n",
       "36274            30             Offline               0   \n",
       "\n",
       "       no_of_previous_cancellations  no_of_previous_bookings_not_canceled  \\\n",
       "0                                 0                                     0   \n",
       "1                                 0                                     0   \n",
       "2                                 0                                     0   \n",
       "3                                 0                                     0   \n",
       "4                                 0                                     0   \n",
       "...                             ...                                   ...   \n",
       "36270                             0                                     0   \n",
       "36271                             0                                     0   \n",
       "36272                             0                                     0   \n",
       "36273                             0                                     0   \n",
       "36274                             0                                     0   \n",
       "\n",
       "       avg_price_per_room  no_of_special_requests booking_status  \n",
       "0                   65.00                       0   Not_Canceled  \n",
       "1                  106.68                       1   Not_Canceled  \n",
       "2                   60.00                       0       Canceled  \n",
       "3                  100.00                       0       Canceled  \n",
       "4                   94.50                       0       Canceled  \n",
       "...                   ...                     ...            ...  \n",
       "36270              167.80                       1   Not_Canceled  \n",
       "36271               90.95                       2       Canceled  \n",
       "36272               98.39                       2   Not_Canceled  \n",
       "36273               94.50                       0       Canceled  \n",
       "36274              161.67                       0   Not_Canceled  \n",
       "\n",
       "[36275 rows x 19 columns]"
      ]
     },
     "execution_count": 57,
     "metadata": {},
     "output_type": "execute_result"
    }
   ],
   "source": [
    "df = pd.read_csv('/kaggle/input/hotel-reservations-classification-dataset/Hotel Reservations.csv',sep=',')\n",
    "df"
   ]
  },
  {
   "cell_type": "code",
   "execution_count": 58,
   "metadata": {
    "execution": {
     "iopub.execute_input": "2023-01-11T04:24:25.037913Z",
     "iopub.status.busy": "2023-01-11T04:24:25.037544Z",
     "iopub.status.idle": "2023-01-11T04:24:25.490531Z",
     "shell.execute_reply": "2023-01-11T04:24:25.489235Z",
     "shell.execute_reply.started": "2023-01-11T04:24:25.037880Z"
    },
    "pycharm": {
     "name": "#%%\n"
    }
   },
   "outputs": [
    {
     "data": {
      "image/png": "[encoded data removed]",
      "text/plain": [
       "<Figure size 1296x648 with 1 Axes>"
      ]
     },
     "metadata": {
      "needs_background": "light"
     },
     "output_type": "display_data"
    }
   ],
   "source": [
    "price_people_room = df.groupby(['room_type_reserved', 'no_of_adults', 'no_of_children']) \\\n",
    "                                    ['avg_price_per_room'] \\\n",
    "                                    .agg('mean').reset_index()\n",
    "\n",
    "\n",
    "fig, ax = plt.subplots(figsize=(18,9))\n",
    "sns.barplot(data=price_people_room, x='room_type_reserved', y='avg_price_per_room')\n",
    "ax.set_title('Average room price per offered Type', fontsize= 15)\n",
    "plt.xlabel(\"Room Types\", fontsize= 15)\n",
    "plt.ylabel(\"Average Price\", fontsize= 15)\n",
    "plt.show()"
   ]
  },
  {
   "cell_type": "code",
   "execution_count": 67,
   "metadata": {
    "execution": {
     "iopub.execute_input": "2023-01-11T04:27:10.139175Z",
     "iopub.status.busy": "2023-01-11T04:27:10.138669Z",
     "iopub.status.idle": "2023-01-11T04:27:10.155264Z",
     "shell.execute_reply": "2023-01-11T04:27:10.153928Z",
     "shell.execute_reply.started": "2023-01-11T04:27:10.139123Z"
    },
    "pycharm": {
     "name": "#%%\n"
    }
   },
   "outputs": [
    {
     "data": {
      "text/html": [
       "<div>\n",
       "<style scoped>\n",
       "    .dataframe tbody tr th:only-of-type {\n",
       "        vertical-align: middle;\n",
       "    }\n",
       "\n",
       "    .dataframe tbody tr th {\n",
       "        vertical-align: top;\n",
       "    }\n",
       "\n",
       "    .dataframe thead th {\n",
       "        text-align: right;\n",
       "    }\n",
       "</style>\n",
       "<table border=\"1\" class=\"dataframe\">\n",
       "  <thead>\n",
       "    <tr style=\"text-align: right;\">\n",
       "      <th></th>\n",
       "      <th>room_type_reserved</th>\n",
       "      <th>no_of_adults</th>\n",
       "      <th>no_of_children</th>\n",
       "      <th>avg_price_per_room</th>\n",
       "    </tr>\n",
       "  </thead>\n",
       "  <tbody>\n",
       "    <tr>\n",
       "      <th>0</th>\n",
       "      <td>Room_Type 1</td>\n",
       "      <td>0</td>\n",
       "      <td>2</td>\n",
       "      <td>57.190000</td>\n",
       "    </tr>\n",
       "    <tr>\n",
       "      <th>1</th>\n",
       "      <td>Room_Type 1</td>\n",
       "      <td>0</td>\n",
       "      <td>3</td>\n",
       "      <td>43.800000</td>\n",
       "    </tr>\n",
       "    <tr>\n",
       "      <th>2</th>\n",
       "      <td>Room_Type 1</td>\n",
       "      <td>1</td>\n",
       "      <td>0</td>\n",
       "      <td>88.202939</td>\n",
       "    </tr>\n",
       "    <tr>\n",
       "      <th>3</th>\n",
       "      <td>Room_Type 1</td>\n",
       "      <td>1</td>\n",
       "      <td>1</td>\n",
       "      <td>95.615405</td>\n",
       "    </tr>\n",
       "    <tr>\n",
       "      <th>4</th>\n",
       "      <td>Room_Type 1</td>\n",
       "      <td>1</td>\n",
       "      <td>2</td>\n",
       "      <td>128.800000</td>\n",
       "    </tr>\n",
       "    <tr>\n",
       "      <th>...</th>\n",
       "      <td>...</td>\n",
       "      <td>...</td>\n",
       "      <td>...</td>\n",
       "      <td>...</td>\n",
       "    </tr>\n",
       "    <tr>\n",
       "      <th>59</th>\n",
       "      <td>Room_Type 7</td>\n",
       "      <td>2</td>\n",
       "      <td>2</td>\n",
       "      <td>208.440976</td>\n",
       "    </tr>\n",
       "    <tr>\n",
       "      <th>60</th>\n",
       "      <td>Room_Type 7</td>\n",
       "      <td>2</td>\n",
       "      <td>3</td>\n",
       "      <td>207.805000</td>\n",
       "    </tr>\n",
       "    <tr>\n",
       "      <th>61</th>\n",
       "      <td>Room_Type 7</td>\n",
       "      <td>3</td>\n",
       "      <td>0</td>\n",
       "      <td>185.951905</td>\n",
       "    </tr>\n",
       "    <tr>\n",
       "      <th>62</th>\n",
       "      <td>Room_Type 7</td>\n",
       "      <td>3</td>\n",
       "      <td>1</td>\n",
       "      <td>219.963333</td>\n",
       "    </tr>\n",
       "    <tr>\n",
       "      <th>63</th>\n",
       "      <td>Room_Type 7</td>\n",
       "      <td>4</td>\n",
       "      <td>0</td>\n",
       "      <td>197.626154</td>\n",
       "    </tr>\n",
       "  </tbody>\n",
       "</table>\n",
       "<p>64 rows × 4 columns</p>\n",
       "</div>"
      ],
      "text/plain": [
       "   room_type_reserved  no_of_adults  no_of_children  avg_price_per_room\n",
       "0         Room_Type 1             0               2           57.190000\n",
       "1         Room_Type 1             0               3           43.800000\n",
       "2         Room_Type 1             1               0           88.202939\n",
       "3         Room_Type 1             1               1           95.615405\n",
       "4         Room_Type 1             1               2          128.800000\n",
       "..                ...           ...             ...                 ...\n",
       "59        Room_Type 7             2               2          208.440976\n",
       "60        Room_Type 7             2               3          207.805000\n",
       "61        Room_Type 7             3               0          185.951905\n",
       "62        Room_Type 7             3               1          219.963333\n",
       "63        Room_Type 7             4               0          197.626154\n",
       "\n",
       "[64 rows x 4 columns]"
      ]
     },
     "execution_count": 67,
     "metadata": {},
     "output_type": "execute_result"
    }
   ],
   "source": [
    "plt.xlabel(\"Room Types\", fontsize= 15)\n",
    "plt.ylabel(\"Average Price\", fontsize= 15)\n",
    "plt.show()"
   ]
  },
  {
   "cell_type": "code",
   "execution_count": null,
   "metadata": {
    "pycharm": {
     "name": "#%%\n"
    }
   },
   "outputs": [],
   "source": [
    "price_people_room = df.groupby(['room_type_reserved', 'no_of_adults', 'no_of_children']) \\\n",
    "                                    ['avg_price_per_room'] \\\n",
    "                                    .agg('mean').reset_index()\n",
    "\n",
    "\n",
    "fig, ax = plt.subplots(figsize=(18,9))\n",
    "sns.barplot(data=price_people_room, x='room_type_reserved', y='avg_price_per_room')\n",
    "ax.set_title('Average room price per offered Type', fontsize= 15)\n",
    "plt.xlabel(\"Room Types\", fontsize= 15)\n",
    "plt.ylabel(\"Average Price\", fontsize= 15)\n",
    "plt.show()"
   ]
  },
  {
   "cell_type": "code",
   "execution_count": 59,
   "metadata": {
    "execution": {
     "iopub.execute_input": "2023-01-11T04:24:25.492273Z",
     "iopub.status.busy": "2023-01-11T04:24:25.491883Z",
     "iopub.status.idle": "2023-01-11T04:24:25.770175Z",
     "shell.execute_reply": "2023-01-11T04:24:25.768881Z",
     "shell.execute_reply.started": "2023-01-11T04:24:25.492235Z"
    },
    "pycharm": {
     "name": "#%%\n"
    }
   },
   "outputs": [
    {
     "data": {
      "text/plain": [
       "array([[<AxesSubplot:ylabel='Frequency'>]], dtype=object)"
      ]
     },
     "execution_count": 59,
     "metadata": {},
     "output_type": "execute_result"
    },
    {
     "data": {
      "image/png": "[encoded data removed]",
      "text/plain": [
       "<Figure size 720x360 with 1 Axes>"
      ]
     },
     "metadata": {
      "needs_background": "light"
     },
     "output_type": "display_data"
    }
   ],
   "source": [
    "df['avg_price_per_room'].plot.hist(subplots=True, layout=(1,1), figsize=(10, 5), bins=10)"
   ]
  },
  {
   "cell_type": "code",
   "execution_count": 60,
   "metadata": {
    "execution": {
     "iopub.execute_input": "2023-01-11T04:24:25.774197Z",
     "iopub.status.busy": "2023-01-11T04:24:25.773736Z",
     "iopub.status.idle": "2023-01-11T04:24:26.045961Z",
     "shell.execute_reply": "2023-01-11T04:24:26.044638Z",
     "shell.execute_reply.started": "2023-01-11T04:24:25.774157Z"
    },
    "pycharm": {
     "name": "#%%\n"
    }
   },
   "outputs": [
    {
     "data": {
      "text/plain": [
       "array([[<AxesSubplot:ylabel='Frequency'>]], dtype=object)"
      ]
     },
     "execution_count": 60,
     "metadata": {},
     "output_type": "execute_result"
    },
    {
     "data": {
      "image/png": "[encoded data removed]",
      "text/plain": [
       "<Figure size 720x360 with 1 Axes>"
      ]
     },
     "metadata": {
      "needs_background": "light"
     },
     "output_type": "display_data"
    }
   ],
   "source": [
    "df['lead_time'].plot.hist(subplots=True, layout=(1,1), figsize=(10, 5), bins=10)"
   ]
  },
  {
   "cell_type": "markdown",
   "metadata": {
    "pycharm": {
     "name": "#%% md\n"
    }
   },
   "source": [
    "# Data pre-processing\n",
    "Process data as classified data"
   ]
  },
  {
   "cell_type": "code",
   "execution_count": 61,
   "metadata": {
    "execution": {
     "iopub.execute_input": "2023-01-11T04:24:26.048129Z",
     "iopub.status.busy": "2023-01-11T04:24:26.047732Z",
     "iopub.status.idle": "2023-01-11T04:27:07.286945Z",
     "shell.execute_reply": "2023-01-11T04:27:07.285494Z",
     "shell.execute_reply.started": "2023-01-11T04:24:26.048083Z"
    },
    "pycharm": {
     "name": "#%%\n"
    }
   },
   "outputs": [],
   "source": [
    "# type_of_meal_plan\n",
    "for i in range(0,len(df['type_of_meal_plan'])):\n",
    "    if df.iloc[i,5 ]=='Meal Plan 1':\n",
    "        df.iloc[i,5]=0\n",
    "    elif df.iloc[i,5 ]=='Meal Plan 2':\n",
    "        df.iloc[i,5]=1\n",
    "    elif df.iloc[i,5 ]=='Not Selected':\n",
    "        df.iloc[i,5]=2\n",
    "    else:\n",
    "        df.iloc[i,5]=3\n",
    "# room_type_reserved\n",
    "for i in range(0,len(df['room_type_reserved'])):\n",
    "    if df.iloc[i,7 ]=='Room_Type 1':\n",
    "        df.iloc[i,7]=0\n",
    "    elif df.iloc[i,7 ]=='Room_Type 2' or df.iloc[i,7 ]=='Room_Type 3':\n",
    "        df.iloc[i,7]=1\n",
    "    else:\n",
    "        df.iloc[i,7]=2\n",
    "# lead_time\n",
    "# for i in range(0,len(df['lead_time'])):\n",
    "#     if df.iloc[i,8 ]<=50:\n",
    "#         df.iloc[i,8]=0\n",
    "#     elif df.iloc[i,8 ]>50 and df.iloc[i,8 ]<=100:\n",
    "#         df.iloc[i,8]=1\n",
    "#     elif df.iloc[i,8 ]>100 and df.iloc[i,8 ]<=150:\n",
    "#         df.iloc[i,8]=2\n",
    "#     else:\n",
    "#         df.iloc[i,8]=3\n",
    "# arrival_date\n",
    "for i in range(0,len(df['arrival_date'])):\n",
    "    if df.iloc[i,11 ]<=10:\n",
    "        df.iloc[i,11]=0\n",
    "    elif df.iloc[i,11 ]>10 and df.iloc[i,11]<=20:\n",
    "        df.iloc[i,11]=1\n",
    "    else:\n",
    "        df.iloc[i,11]=2\n",
    "# market_segment_type\n",
    "for i in range(0,len(df['market_segment_type'])):\n",
    "    if df.iloc[i,12 ]=='Online':\n",
    "        df.iloc[i,12]=0\n",
    "    elif df.iloc[i,12 ]=='Offline':\n",
    "        df.iloc[i,12]=1\n",
    "    else:\n",
    "        df.iloc[i,12]=2\n",
    "# avg_price_per_room\n",
    "for i in range(0,len(df['avg_price_per_room'])):\n",
    "    if df.iloc[i,16 ]<=50:\n",
    "        df.iloc[i,16]=0\n",
    "    elif df.iloc[i,16 ]>50 and df.iloc[i,16 ]<=100:\n",
    "        df.iloc[i,16]=1\n",
    "    elif df.iloc[i,16 ]>100 and df.iloc[i,16 ]<=150:\n",
    "        df.iloc[i,16]=2\n",
    "    else:\n",
    "        df.iloc[i,16]=3\n",
    "# booking_status\n",
    "for i in range(0,len(df['booking_status'])):\n",
    "    if df.iloc[i,18 ]=='Not_Canceled':\n",
    "        df.iloc[i,18]=0\n",
    "    else:\n",
    "        df.iloc[i,18]=1"
   ]
  },
  {
   "cell_type": "code",
   "execution_count": 62,
   "metadata": {
    "execution": {
     "iopub.execute_input": "2023-01-11T04:27:07.288984Z",
     "iopub.status.busy": "2023-01-11T04:27:07.288527Z",
     "iopub.status.idle": "2023-01-11T04:27:07.320271Z",
     "shell.execute_reply": "2023-01-11T04:27:07.318925Z",
     "shell.execute_reply.started": "2023-01-11T04:27:07.288944Z"
    },
    "pycharm": {
     "name": "#%%\n"
    }
   },
   "outputs": [
    {
     "data": {
      "text/html": [
       "<div>\n",
       "<style scoped>\n",
       "    .dataframe tbody tr th:only-of-type {\n",
       "        vertical-align: middle;\n",
       "    }\n",
       "\n",
       "    .dataframe tbody tr th {\n",
       "        vertical-align: top;\n",
       "    }\n",
       "\n",
       "    .dataframe thead th {\n",
       "        text-align: right;\n",
       "    }\n",
       "</style>\n",
       "<table border=\"1\" class=\"dataframe\">\n",
       "  <thead>\n",
       "    <tr style=\"text-align: right;\">\n",
       "      <th></th>\n",
       "      <th>no_of_adults</th>\n",
       "      <th>no_of_children</th>\n",
       "      <th>no_of_weekend_nights</th>\n",
       "      <th>no_of_week_nights</th>\n",
       "      <th>type_of_meal_plan</th>\n",
       "      <th>required_car_parking_space</th>\n",
       "      <th>room_type_reserved</th>\n",
       "      <th>lead_time</th>\n",
       "      <th>arrival_year</th>\n",
       "      <th>arrival_month</th>\n",
       "      <th>arrival_date</th>\n",
       "      <th>market_segment_type</th>\n",
       "      <th>repeated_guest</th>\n",
       "      <th>no_of_previous_cancellations</th>\n",
       "      <th>no_of_previous_bookings_not_canceled</th>\n",
       "      <th>avg_price_per_room</th>\n",
       "      <th>no_of_special_requests</th>\n",
       "      <th>booking_status</th>\n",
       "    </tr>\n",
       "  </thead>\n",
       "  <tbody>\n",
       "    <tr>\n",
       "      <th>0</th>\n",
       "      <td>2</td>\n",
       "      <td>0</td>\n",
       "      <td>1</td>\n",
       "      <td>2</td>\n",
       "      <td>0</td>\n",
       "      <td>0</td>\n",
       "      <td>0</td>\n",
       "      <td>224</td>\n",
       "      <td>2017</td>\n",
       "      <td>10</td>\n",
       "      <td>0</td>\n",
       "      <td>1</td>\n",
       "      <td>0</td>\n",
       "      <td>0</td>\n",
       "      <td>0</td>\n",
       "      <td>1.0</td>\n",
       "      <td>0</td>\n",
       "      <td>0</td>\n",
       "    </tr>\n",
       "    <tr>\n",
       "      <th>1</th>\n",
       "      <td>2</td>\n",
       "      <td>0</td>\n",
       "      <td>2</td>\n",
       "      <td>3</td>\n",
       "      <td>2</td>\n",
       "      <td>0</td>\n",
       "      <td>0</td>\n",
       "      <td>5</td>\n",
       "      <td>2018</td>\n",
       "      <td>11</td>\n",
       "      <td>0</td>\n",
       "      <td>0</td>\n",
       "      <td>0</td>\n",
       "      <td>0</td>\n",
       "      <td>0</td>\n",
       "      <td>2.0</td>\n",
       "      <td>1</td>\n",
       "      <td>0</td>\n",
       "    </tr>\n",
       "    <tr>\n",
       "      <th>2</th>\n",
       "      <td>1</td>\n",
       "      <td>0</td>\n",
       "      <td>2</td>\n",
       "      <td>1</td>\n",
       "      <td>0</td>\n",
       "      <td>0</td>\n",
       "      <td>0</td>\n",
       "      <td>1</td>\n",
       "      <td>2018</td>\n",
       "      <td>2</td>\n",
       "      <td>2</td>\n",
       "      <td>0</td>\n",
       "      <td>0</td>\n",
       "      <td>0</td>\n",
       "      <td>0</td>\n",
       "      <td>1.0</td>\n",
       "      <td>0</td>\n",
       "      <td>1</td>\n",
       "    </tr>\n",
       "    <tr>\n",
       "      <th>3</th>\n",
       "      <td>2</td>\n",
       "      <td>0</td>\n",
       "      <td>0</td>\n",
       "      <td>2</td>\n",
       "      <td>0</td>\n",
       "      <td>0</td>\n",
       "      <td>0</td>\n",
       "      <td>211</td>\n",
       "      <td>2018</td>\n",
       "      <td>5</td>\n",
       "      <td>1</td>\n",
       "      <td>0</td>\n",
       "      <td>0</td>\n",
       "      <td>0</td>\n",
       "      <td>0</td>\n",
       "      <td>1.0</td>\n",
       "      <td>0</td>\n",
       "      <td>1</td>\n",
       "    </tr>\n",
       "    <tr>\n",
       "      <th>4</th>\n",
       "      <td>2</td>\n",
       "      <td>0</td>\n",
       "      <td>1</td>\n",
       "      <td>1</td>\n",
       "      <td>2</td>\n",
       "      <td>0</td>\n",
       "      <td>0</td>\n",
       "      <td>48</td>\n",
       "      <td>2018</td>\n",
       "      <td>4</td>\n",
       "      <td>1</td>\n",
       "      <td>0</td>\n",
       "      <td>0</td>\n",
       "      <td>0</td>\n",
       "      <td>0</td>\n",
       "      <td>1.0</td>\n",
       "      <td>0</td>\n",
       "      <td>1</td>\n",
       "    </tr>\n",
       "    <tr>\n",
       "      <th>...</th>\n",
       "      <td>...</td>\n",
       "      <td>...</td>\n",
       "      <td>...</td>\n",
       "      <td>...</td>\n",
       "      <td>...</td>\n",
       "      <td>...</td>\n",
       "      <td>...</td>\n",
       "      <td>...</td>\n",
       "      <td>...</td>\n",
       "      <td>...</td>\n",
       "      <td>...</td>\n",
       "      <td>...</td>\n",
       "      <td>...</td>\n",
       "      <td>...</td>\n",
       "      <td>...</td>\n",
       "      <td>...</td>\n",
       "      <td>...</td>\n",
       "      <td>...</td>\n",
       "    </tr>\n",
       "    <tr>\n",
       "      <th>36270</th>\n",
       "      <td>3</td>\n",
       "      <td>0</td>\n",
       "      <td>2</td>\n",
       "      <td>6</td>\n",
       "      <td>0</td>\n",
       "      <td>0</td>\n",
       "      <td>2</td>\n",
       "      <td>85</td>\n",
       "      <td>2018</td>\n",
       "      <td>8</td>\n",
       "      <td>0</td>\n",
       "      <td>0</td>\n",
       "      <td>0</td>\n",
       "      <td>0</td>\n",
       "      <td>0</td>\n",
       "      <td>3.0</td>\n",
       "      <td>1</td>\n",
       "      <td>0</td>\n",
       "    </tr>\n",
       "    <tr>\n",
       "      <th>36271</th>\n",
       "      <td>2</td>\n",
       "      <td>0</td>\n",
       "      <td>1</td>\n",
       "      <td>3</td>\n",
       "      <td>0</td>\n",
       "      <td>0</td>\n",
       "      <td>0</td>\n",
       "      <td>228</td>\n",
       "      <td>2018</td>\n",
       "      <td>10</td>\n",
       "      <td>1</td>\n",
       "      <td>0</td>\n",
       "      <td>0</td>\n",
       "      <td>0</td>\n",
       "      <td>0</td>\n",
       "      <td>1.0</td>\n",
       "      <td>2</td>\n",
       "      <td>1</td>\n",
       "    </tr>\n",
       "    <tr>\n",
       "      <th>36272</th>\n",
       "      <td>2</td>\n",
       "      <td>0</td>\n",
       "      <td>2</td>\n",
       "      <td>6</td>\n",
       "      <td>0</td>\n",
       "      <td>0</td>\n",
       "      <td>0</td>\n",
       "      <td>148</td>\n",
       "      <td>2018</td>\n",
       "      <td>7</td>\n",
       "      <td>0</td>\n",
       "      <td>0</td>\n",
       "      <td>0</td>\n",
       "      <td>0</td>\n",
       "      <td>0</td>\n",
       "      <td>1.0</td>\n",
       "      <td>2</td>\n",
       "      <td>0</td>\n",
       "    </tr>\n",
       "    <tr>\n",
       "      <th>36273</th>\n",
       "      <td>2</td>\n",
       "      <td>0</td>\n",
       "      <td>0</td>\n",
       "      <td>3</td>\n",
       "      <td>2</td>\n",
       "      <td>0</td>\n",
       "      <td>0</td>\n",
       "      <td>63</td>\n",
       "      <td>2018</td>\n",
       "      <td>4</td>\n",
       "      <td>2</td>\n",
       "      <td>0</td>\n",
       "      <td>0</td>\n",
       "      <td>0</td>\n",
       "      <td>0</td>\n",
       "      <td>1.0</td>\n",
       "      <td>0</td>\n",
       "      <td>1</td>\n",
       "    </tr>\n",
       "    <tr>\n",
       "      <th>36274</th>\n",
       "      <td>2</td>\n",
       "      <td>0</td>\n",
       "      <td>1</td>\n",
       "      <td>2</td>\n",
       "      <td>0</td>\n",
       "      <td>0</td>\n",
       "      <td>0</td>\n",
       "      <td>207</td>\n",
       "      <td>2018</td>\n",
       "      <td>12</td>\n",
       "      <td>2</td>\n",
       "      <td>1</td>\n",
       "      <td>0</td>\n",
       "      <td>0</td>\n",
       "      <td>0</td>\n",
       "      <td>3.0</td>\n",
       "      <td>0</td>\n",
       "      <td>0</td>\n",
       "    </tr>\n",
       "  </tbody>\n",
       "</table>\n",
       "<p>36275 rows × 18 columns</p>\n",
       "</div>"
      ],
      "text/plain": [
       "       no_of_adults  no_of_children  no_of_weekend_nights  no_of_week_nights  \\\n",
       "0                 2               0                     1                  2   \n",
       "1                 2               0                     2                  3   \n",
       "2                 1               0                     2                  1   \n",
       "3                 2               0                     0                  2   \n",
       "4                 2               0                     1                  1   \n",
       "...             ...             ...                   ...                ...   \n",
       "36270             3               0                     2                  6   \n",
       "36271             2               0                     1                  3   \n",
       "36272             2               0                     2                  6   \n",
       "36273             2               0                     0                  3   \n",
       "36274             2               0                     1                  2   \n",
       "\n",
       "      type_of_meal_plan  required_car_parking_space room_type_reserved  \\\n",
       "0                     0                           0                  0   \n",
       "1                     2                           0                  0   \n",
       "2                     0                           0                  0   \n",
       "3                     0                           0                  0   \n",
       "4                     2                           0                  0   \n",
       "...                 ...                         ...                ...   \n",
       "36270                 0                           0                  2   \n",
       "36271                 0                           0                  0   \n",
       "36272                 0                           0                  0   \n",
       "36273                 2                           0                  0   \n",
       "36274                 0                           0                  0   \n",
       "\n",
       "       lead_time  arrival_year  arrival_month  arrival_date  \\\n",
       "0            224          2017             10             0   \n",
       "1              5          2018             11             0   \n",
       "2              1          2018              2             2   \n",
       "3            211          2018              5             1   \n",
       "4             48          2018              4             1   \n",
       "...          ...           ...            ...           ...   \n",
       "36270         85          2018              8             0   \n",
       "36271        228          2018             10             1   \n",
       "36272        148          2018              7             0   \n",
       "36273         63          2018              4             2   \n",
       "36274        207          2018             12             2   \n",
       "\n",
       "      market_segment_type  repeated_guest  no_of_previous_cancellations  \\\n",
       "0                       1               0                             0   \n",
       "1                       0               0                             0   \n",
       "2                       0               0                             0   \n",
       "3                       0               0                             0   \n",
       "4                       0               0                             0   \n",
       "...                   ...             ...                           ...   \n",
       "36270                   0               0                             0   \n",
       "36271                   0               0                             0   \n",
       "36272                   0               0                             0   \n",
       "36273                   0               0                             0   \n",
       "36274                   1               0                             0   \n",
       "\n",
       "       no_of_previous_bookings_not_canceled  avg_price_per_room  \\\n",
       "0                                         0                 1.0   \n",
       "1                                         0                 2.0   \n",
       "2                                         0                 1.0   \n",
       "3                                         0                 1.0   \n",
       "4                                         0                 1.0   \n",
       "...                                     ...                 ...   \n",
       "36270                                     0                 3.0   \n",
       "36271                                     0                 1.0   \n",
       "36272                                     0                 1.0   \n",
       "36273                                     0                 1.0   \n",
       "36274                                     0                 3.0   \n",
       "\n",
       "       no_of_special_requests booking_status  \n",
       "0                           0              0  \n",
       "1                           1              0  \n",
       "2                           0              1  \n",
       "3                           0              1  \n",
       "4                           0              1  \n",
       "...                       ...            ...  \n",
       "36270                       1              0  \n",
       "36271                       2              1  \n",
       "36272                       2              0  \n",
       "36273                       0              1  \n",
       "36274                       0              0  \n",
       "\n",
       "[36275 rows x 18 columns]"
      ]
     },
     "execution_count": 62,
     "metadata": {},
     "output_type": "execute_result"
    }
   ],
   "source": [
    "df.drop(['Booking_ID'],axis=1)"
   ]
  },
  {
   "cell_type": "code",
   "execution_count": 129,
   "metadata": {
    "execution": {
     "iopub.execute_input": "2023-01-11T05:03:40.041790Z",
     "iopub.status.busy": "2023-01-11T05:03:40.041344Z",
     "iopub.status.idle": "2023-01-11T05:03:40.087654Z",
     "shell.execute_reply": "2023-01-11T05:03:40.086573Z",
     "shell.execute_reply.started": "2023-01-11T05:03:40.041749Z"
    },
    "pycharm": {
     "name": "#%%\n"
    }
   },
   "outputs": [],
   "source": [
    "#names=df.columns[1:18]\n",
    "X=df[names].drop(['Booking_ID','booking_status'],axis=1).values\n",
    "#X = df.drop(['Booking_ID'],axis=1).values\n",
    "#X= df[['no_of_children','no_of_weekend_nights','no_of_week_nights','avg_price_per_room','no_of_special_requests','no_of_previous_bookings_not_canceled','lead_time','arrival_year','arrival_month','arrival_date','market_segment_type','repeated_guest','no_of_weekend_nights','no_of_week_nights','type_of_meal_plan','required_car_parking_space']].values\n",
    "# X = df[['arrival_date','market_segment_type']].values\n",
    "y = df['booking_status'].values\n",
    "X_train,X_test,y_train,y_test = train_test_split(X,y,test_size=0.2,random_state=42)"
   ]
  },
  {
   "cell_type": "code",
   "execution_count": 142,
   "metadata": {
    "execution": {
     "iopub.execute_input": "2023-01-11T05:37:52.635867Z",
     "iopub.status.busy": "2023-01-11T05:37:52.635431Z",
     "iopub.status.idle": "2023-01-11T05:37:58.808559Z",
     "shell.execute_reply": "2023-01-11T05:37:58.807252Z",
     "shell.execute_reply.started": "2023-01-11T05:37:52.635827Z"
    },
    "pycharm": {
     "name": "#%%\n"
    }
   },
   "outputs": [],
   "source": [
    "from sklearn.ensemble import RandomForestClassifier     \n",
    "\n",
    "rfc = RandomForestClassifier(n_estimators=200, max_depth=20, criterion='gini')                     \n",
    "rfc = rfc.fit(X_train.astype('int'),y_train.astype('int'))                 \n",
    "# result = rfc.score(X_test,y_test.astype('int'))  \n",
    "# print(\"train_score:\", rfc.score(X_train, y_train.astype('int')))\n",
    "# print(\"test_result：\",result)"
   ]
  },
  {
   "cell_type": "code",
   "execution_count": 132,
   "metadata": {
    "execution": {
     "iopub.execute_input": "2023-01-11T05:04:09.223252Z",
     "iopub.status.busy": "2023-01-11T05:04:09.222810Z",
     "iopub.status.idle": "2023-01-11T05:04:10.823527Z",
     "shell.execute_reply": "2023-01-11T05:04:10.821934Z",
     "shell.execute_reply.started": "2023-01-11T05:04:09.223214Z"
    },
    "pycharm": {
     "name": "#%%\n"
    }
   },
   "outputs": [
    {
     "name": "stdout",
     "output_type": "stream",
     "text": [
      "Accuracy over Training data: 0.9636\n",
      "Accuracy over Testing data: 0.8958\n"
     ]
    }
   ],
   "source": [
    "nb_predict_train = rfc.predict(X_train)\n",
    "print(\"Accuracy over Training data: {0:.4f}\".format(metrics.accuracy_score(y_train.astype('int'), nb_predict_train)))\n",
    "nb_predict_test = rfc.predict(X_test)\n",
    "print(\"Accuracy over Testing data: {0:.4f}\".format(metrics.accuracy_score(y_test.astype('int'), nb_predict_test)))"
   ]
  },
  {
   "cell_type": "code",
   "execution_count": 95,
   "metadata": {
    "execution": {
     "iopub.execute_input": "2023-01-11T04:50:22.788426Z",
     "iopub.status.busy": "2023-01-11T04:50:22.787426Z",
     "iopub.status.idle": "2023-01-11T04:50:22.815365Z",
     "shell.execute_reply": "2023-01-11T04:50:22.813915Z",
     "shell.execute_reply.started": "2023-01-11T04:50:22.788370Z"
    },
    "pycharm": {
     "name": "#%%\n"
    }
   },
   "outputs": [
    {
     "name": "stdout",
     "output_type": "stream",
     "text": [
      "              precision    recall  f1-score   support\n",
      "\n",
      "           1       0.83      0.75      0.79      2416\n",
      "           0       0.88      0.92      0.90      4839\n",
      "\n",
      "    accuracy                           0.87      7255\n",
      "   macro avg       0.86      0.84      0.85      7255\n",
      "weighted avg       0.87      0.87      0.87      7255\n",
      "\n"
     ]
    }
   ],
   "source": [
    "print(metrics.classification_report(y_test.astype('int'), nb_predict_test, labels=[1, 0]))"
   ]
  },
  {
   "cell_type": "markdown",
   "metadata": {
    "pycharm": {
     "name": "#%% md\n"
    }
   },
   "source": [
    "### Cross Validation Score and Training Score Plots"
   ]
  },
  {
   "cell_type": "code",
   "execution_count": 104,
   "metadata": {
    "execution": {
     "iopub.execute_input": "2023-01-11T04:56:22.099444Z",
     "iopub.status.busy": "2023-01-11T04:56:22.099009Z",
     "iopub.status.idle": "2023-01-11T04:57:11.681443Z",
     "shell.execute_reply": "2023-01-11T04:57:11.680181Z",
     "shell.execute_reply.started": "2023-01-11T04:56:22.099409Z"
    },
    "pycharm": {
     "name": "#%%\n"
    }
   },
   "outputs": [
    {
     "data": {
      "text/plain": [
       "<AxesSubplot:title={'center':'Digits Classification Learning Curve'}, xlabel='Training examples', ylabel='Score'>"
      ]
     },
     "execution_count": 104,
     "metadata": {},
     "output_type": "execute_result"
    },
    {
     "data": {
      "image/png": "[encoded data removed]",
      "text/plain": [
       "<Figure size 432x288 with 1 Axes>"
      ]
     },
     "metadata": {
      "needs_background": "light"
     },
     "output_type": "display_data"
    }
   ],
   "source": [
    "skplt.estimators.plot_learning_curve(rfc, X_train, y_train.astype('int'),\n",
    "                                     cv=7, shuffle=True, scoring=\"accuracy\",\n",
    "                                     n_jobs=-1, figsize=(6,4), title_fontsize=\"large\", text_fontsize=\"large\",\n",
    "                                     title=\"Digits Classification Learning Curve\")"
   ]
  },
  {
   "cell_type": "code",
   "execution_count": 147,
   "metadata": {
    "execution": {
     "iopub.execute_input": "2023-01-11T05:39:17.960780Z",
     "iopub.status.busy": "2023-01-11T05:39:17.960300Z",
     "iopub.status.idle": "2023-01-11T05:39:18.063436Z",
     "shell.execute_reply": "2023-01-11T05:39:18.062194Z",
     "shell.execute_reply.started": "2023-01-11T05:39:17.960742Z"
    },
    "pycharm": {
     "name": "#%%\n"
    }
   },
   "outputs": [],
   "source": [
    "from sklearn import tree\n",
    "DecisionTreeObj = tree.DecisionTreeClassifier(criterion=\"entropy\", random_state=30, splitter=\"random\",max_depth=20)\n",
    "DecisionTreeObj = DecisionTreeObj.fit(X_train, y_train.astype('int'))"
   ]
  },
  {
   "cell_type": "code",
   "execution_count": 148,
   "metadata": {
    "execution": {
     "iopub.execute_input": "2023-01-11T05:39:21.559076Z",
     "iopub.status.busy": "2023-01-11T05:39:21.558615Z",
     "iopub.status.idle": "2023-01-11T05:39:21.983203Z",
     "shell.execute_reply": "2023-01-11T05:39:21.981685Z",
     "shell.execute_reply.started": "2023-01-11T05:39:21.559037Z"
    },
    "pycharm": {
     "name": "#%%\n"
    }
   },
   "outputs": [
    {
     "name": "stdout",
     "output_type": "stream",
     "text": [
      "Accuracy over Training data: 0.9565\n",
      "Accuracy over Testing data: 0.8955\n"
     ]
    }
   ],
   "source": [
    "nb_predict_train = DecisionTreeObj.predict(X_train)\n",
    "print(\"Accuracy over Training data: {0:.4f}\".format(metrics.accuracy_score(y_train.astype('int'), nb_predict_train)))\n",
    "nb_predict_test = rfc.predict(X_test)\n",
    "print(\"Accuracy over Testing data: {0:.4f}\".format(metrics.accuracy_score(y_test.astype('int'), nb_predict_test)))"
   ]
  },
  {
   "cell_type": "code",
   "execution_count": 145,
   "metadata": {
    "execution": {
     "iopub.execute_input": "2023-01-11T05:38:26.677639Z",
     "iopub.status.busy": "2023-01-11T05:38:26.677232Z",
     "iopub.status.idle": "2023-01-11T05:38:26.704127Z",
     "shell.execute_reply": "2023-01-11T05:38:26.702947Z",
     "shell.execute_reply.started": "2023-01-11T05:38:26.677605Z"
    },
    "pycharm": {
     "name": "#%%\n"
    }
   },
   "outputs": [
    {
     "name": "stdout",
     "output_type": "stream",
     "text": [
      "              precision    recall  f1-score   support\n",
      "\n",
      "           1       0.88      0.80      0.84      2416\n",
      "           0       0.90      0.94      0.92      4839\n",
      "\n",
      "    accuracy                           0.90      7255\n",
      "   macro avg       0.89      0.87      0.88      7255\n",
      "weighted avg       0.89      0.90      0.89      7255\n",
      "\n"
     ]
    }
   ],
   "source": [
    "print(metrics.classification_report(y_test.astype('int'), nb_predict_test, labels=[1, 0]))"
   ]
  },
  {
   "cell_type": "code",
   "execution_count": 149,
   "metadata": {
    "execution": {
     "iopub.execute_input": "2023-01-11T05:39:37.968510Z",
     "iopub.status.busy": "2023-01-11T05:39:37.967933Z",
     "iopub.status.idle": "2023-01-11T05:39:40.298737Z",
     "shell.execute_reply": "2023-01-11T05:39:40.297495Z",
     "shell.execute_reply.started": "2023-01-11T05:39:37.968459Z"
    },
    "pycharm": {
     "name": "#%%\n"
    }
   },
   "outputs": [
    {
     "data": {
      "text/plain": [
       "<AxesSubplot:title={'center':'Digits Classification Learning Curve'}, xlabel='Training examples', ylabel='Score'>"
      ]
     },
     "execution_count": 149,
     "metadata": {},
     "output_type": "execute_result"
    },
    {
     "data": {
      "image/png": "[encoded data removed]",
      "text/plain": [
       "<Figure size 432x288 with 1 Axes>"
      ]
     },
     "metadata": {
      "needs_background": "light"
     },
     "output_type": "display_data"
    }
   ],
   "source": [
    "skplt.estimators.plot_learning_curve(DecisionTreeObj, X_train, y_train.astype('int'),\n",
    "                                     cv=7, shuffle=True, scoring=\"accuracy\",\n",
    "                                     n_jobs=-1, figsize=(6,4), title_fontsize=\"large\", text_fontsize=\"large\",\n",
    "                                     title=\"Digits Classification Learning Curve\")"
   ]
  }
 ],
 "metadata": {
  "kernelspec": {
   "display_name": "Python 3 (ipykernel)",
   "language": "python",
   "name": "python3"
  },
  "language_info": {
   "codemirror_mode": {
    "name": "ipython",
    "version": 3
   },
   "file_extension": ".py",
   "mimetype": "text/x-python",
   "name": "python",
   "nbconvert_exporter": "python",
   "pygments_lexer": "ipython3",
   "version": "3.9.12"
  }
 },
 "nbformat": 4,
 "nbformat_minor": 4
}
